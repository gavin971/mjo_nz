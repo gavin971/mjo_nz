{
 "metadata": {
  "name": "",
  "signature": "sha256:5ebdfa77fdce45ad6e3c729afed9b4fe70915c02994ecf583ffbbbdc5839ad00"
 },
 "nbformat": 3,
 "nbformat_minor": 0,
 "worksheets": [
  {
   "cells": [
    {
     "cell_type": "heading",
     "level": 1,
     "metadata": {},
     "source": [
      "index notebook"
     ]
    },
    {
     "cell_type": "markdown",
     "metadata": {},
     "source": [
      "<hr size = 5>"
     ]
    },
    {
     "cell_type": "heading",
     "level": 2,
     "metadata": {},
     "source": [
      "data processing"
     ]
    },
    {
     "cell_type": "markdown",
     "metadata": {},
     "source": [
      "in the `data_processing` folder are all the IPython notebooks related to the processing of the data (i.e. **not** the analyses themselves)"
     ]
    },
    {
     "cell_type": "markdown",
     "metadata": {},
     "source": [
      "+ [time_filtering.ipynb](./data_processing/time_filtering.ipynb): some comparisons between different ways of filtering the time-series (here applied to the Southern Annular Mode index)"
     ]
    },
    {
     "cell_type": "heading",
     "level": 2,
     "metadata": {},
     "source": [
      "Section 1: data and methods"
     ]
    },
    {
     "cell_type": "heading",
     "level": 2,
     "metadata": {},
     "source": [
      "Section 2: impact of the MJO on NZ's rainfall"
     ]
    },
    {
     "cell_type": "heading",
     "level": 2,
     "metadata": {},
     "source": [
      "Section 3: circulation anomalies"
     ]
    },
    {
     "cell_type": "heading",
     "level": 2,
     "metadata": {},
     "source": [
      "Section 4: The MJO and regional weather regimes"
     ]
    },
    {
     "cell_type": "heading",
     "level": 2,
     "metadata": {},
     "source": [
      "Section 5: the MJO and the Southern Annular Mode"
     ]
    }
   ],
   "metadata": {}
  }
 ]
}